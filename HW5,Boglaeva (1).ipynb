{
 "cells": [
  {
   "cell_type": "code",
   "execution_count": null,
   "id": "7adf2ddd",
   "metadata": {},
   "outputs": [],
   "source": [
    "Задача 1. Когда используется критерий Стьюдента, а когда Z –критерий?\n",
    "\n",
    "Оба критерия используются для проверки гипотез о мат.ожидании, но\n",
    "если нам известна сигма ген. совокупности, то тогда используется Z- критерий.\n",
    "Если же сигма ген.совокупности не известна, то используем t- критерий"
   ]
  },
  {
   "cell_type": "code",
   "execution_count": null,
   "id": "8d42b47d",
   "metadata": {},
   "outputs": [],
   "source": [
    "Задача 2. Проведите тест гипотезы. Утверждается, что шарики для подшипников, изготовленные\n",
    "автоматическим станком, имеют средний диаметр 17 мм.\n",
    "Используя односторонний критерий с α=0,05, проверить эту гипотезу, если в выборке из\n",
    "n=100 шариков средний диаметр\n",
    "оказался равным 17.5 мм, а дисперсия известна и равна 4 кв. мм."
   ]
  },
  {
   "cell_type": "code",
   "execution_count": null,
   "id": "fc3bc90f",
   "metadata": {},
   "outputs": [],
   "source": [
    "mu= 17\n",
    "mu0 = 17.5\n",
    "n= 100\n",
    "a = 0.05\n",
    "D = 4\n",
    "H0:mu = mu0\n",
    "H1: mu >mu0 (т.к. критерий односторонний)\n",
    "Дисперсия известна, поэтому будем использовать z- критерий\n",
    "std = sqrt(D) = 2\n",
    "\n",
    "Zn = (17.5-17)/(2/10) = 0.5*5 = 2.5\n",
    "Табличное значение при а = 0.05\n",
    "zt = 1.645\n",
    "Zn попадает в область H1\n",
    "Гипотеза H0 отвергается"
   ]
  },
  {
   "cell_type": "code",
   "execution_count": null,
   "id": "2da68cf3",
   "metadata": {},
   "outputs": [],
   "source": [
    "Задача 3. Проведите тест гипотезы. Продавец утверждает, что средний вес пачки печенья\n",
    "составляет 200 г.\n",
    "Из партии извлечена выборка из 10 пачек. Вес каждой пачки составляет:\n",
    "202, 203, 199, 197, 195, 201, 200, 204, 194, 190.\n",
    "Известно, что их веса распределены нормально.\n",
    "Верно ли утверждение продавца, если учитывать, что доверительная вероятность равна\n",
    "99%? (Провести двусторонний тест.)\n",
    "H0: mu = mu0\n",
    "H1: mu != mu0"
   ]
  },
  {
   "cell_type": "code",
   "execution_count": 2,
   "id": "47df0ae3",
   "metadata": {},
   "outputs": [
    {
     "data": {
      "text/plain": [
       "(198.5, 4.453463071962462)"
      ]
     },
     "execution_count": 2,
     "metadata": {},
     "output_type": "execute_result"
    }
   ],
   "source": [
    "import numpy as np\n",
    "x = np.array([202, 203, 199, 197, 195, 201, 200, 204, 194, 190])\n",
    "x_mean = np.mean(x)\n",
    "x_s = np.std(x, ddof =1)\n",
    "x_mean, x_s"
   ]
  },
  {
   "cell_type": "code",
   "execution_count": 13,
   "id": "84c494af",
   "metadata": {},
   "outputs": [
    {
     "data": {
      "text/plain": [
       "-1.0651074037450896"
      ]
     },
     "execution_count": 13,
     "metadata": {},
     "output_type": "execute_result"
    }
   ],
   "source": [
    "from math import sqrt\n",
    "x0 = 200\n",
    "n=10\n",
    "a = 0.01\n",
    "# дисперсия ген.совокупности не известна, поэтому будем использовать t-критерий\n",
    "Tn = (x_mean - x0)/(x_v/sqrt(10))\n",
    "Tn"
   ]
  },
  {
   "cell_type": "code",
   "execution_count": 9,
   "id": "13a50a38",
   "metadata": {},
   "outputs": [
    {
     "data": {
      "text/plain": [
       "(-3.24983554401537, 3.2498355440153697)"
      ]
     },
     "execution_count": 9,
     "metadata": {},
     "output_type": "execute_result"
    }
   ],
   "source": [
    "from scipy import stats\n",
    "a = 0.01\n",
    "n=10\n",
    "t1 = stats.t.ppf(a/2, df= n-1)\n",
    "t2 = stats.t.ppf(1-a/2, df= n-1)\n",
    "t1, t2"
   ]
  },
  {
   "cell_type": "code",
   "execution_count": null,
   "id": "171428e8",
   "metadata": {},
   "outputs": [],
   "source": [
    "Т.к. Tн не лежит в критическом регионе, то гипотезу Ho не отвергаем."
   ]
  },
  {
   "cell_type": "code",
   "execution_count": null,
   "id": "21225233",
   "metadata": {},
   "outputs": [],
   "source": [
    "Задача 4. Есть ли статистически значимые различия в росте\n",
    "дочерей?\n",
    "Рост матерей 172, 177, 158, 170, 178,175, 164, 160, 169, 165\n",
    "Рост взрослых дочерей: 173, 175, 162, 174, 175, 168, 155, 170, 160, 163"
   ]
  },
  {
   "cell_type": "code",
   "execution_count": 16,
   "id": "d308c9ac",
   "metadata": {},
   "outputs": [
    {
     "data": {
      "text/plain": [
       "(168.8, 167.5, 48.17777777777778, 50.5)"
      ]
     },
     "execution_count": 16,
     "metadata": {},
     "output_type": "execute_result"
    }
   ],
   "source": [
    "m = np.array([172, 177, 158, 170, 178,175, 164, 160, 169, 165])\n",
    "d = np.array([173, 175, 162, 174, 175, 168, 155, 170, 160, 163])\n",
    "\n",
    "mu_m = np.mean(m)\n",
    "m_v = np.var(m, ddof =1)\n",
    "mu_d = np.mean(d)\n",
    "d_v = np.var(d, ddof =1)\n",
    "mu_m, mu_d, m_v, d_v"
   ]
  },
  {
   "cell_type": "code",
   "execution_count": 17,
   "id": "02ca5f24",
   "metadata": {},
   "outputs": [
    {
     "data": {
      "text/plain": [
       "Ttest_relResult(statistic=0.6648478531431979, pvalue=0.5228168632983574)"
      ]
     },
     "execution_count": 17,
     "metadata": {},
     "output_type": "execute_result"
    }
   ],
   "source": [
    "# Выборки зависимые, используем критерий t\n",
    "# Ho: mu_m = mu_d\n",
    "# H1: mu_m != mu_d\n",
    "alpha = 0.05\n",
    "stats.ttest_rel(m,d)"
   ]
  },
  {
   "cell_type": "code",
   "execution_count": null,
   "id": "123b336f",
   "metadata": {},
   "outputs": [],
   "source": [
    "pvalue > 0.05\n",
    "Гипотеза H0 не отвергается"
   ]
  }
 ],
 "metadata": {
  "kernelspec": {
   "display_name": "Python 3 (ipykernel)",
   "language": "python",
   "name": "python3"
  },
  "language_info": {
   "codemirror_mode": {
    "name": "ipython",
    "version": 3
   },
   "file_extension": ".py",
   "mimetype": "text/x-python",
   "name": "python",
   "nbconvert_exporter": "python",
   "pygments_lexer": "ipython3",
   "version": "3.9.13"
  }
 },
 "nbformat": 4,
 "nbformat_minor": 5
}
